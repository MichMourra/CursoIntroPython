{
 "cells": [
  {
   "cell_type": "markdown",
   "id": "14d30483",
   "metadata": {},
   "source": [
    "# Documentación\n",
    "\n",
    "Se entiende como documentación a la información necesaria para entender un programa. La documentación consta de las descripciones de los pasos a dar en el proceso de resolución de dicho problema. La importancia de la documentación debe ser destacada por su decisiva influencia en el producto final. \n",
    "\n",
    "Programas deficientemente documentados son difíciles de leer, más difíciles de depurar y casi imposibles de mantener y modificar. \n",
    "\n",
    "Dicha documentación puede ser interna o externa.\n",
    "\n",
    "**Documentación interna**\n",
    "\n",
    "La documentación interna es la contenida dentro del código en forma líneas de comentarios y docstrings multilinea.\n",
    "\n",
    "**Documentación extener**\n",
    "\n",
    "La documentación externa incluye análisis, diagramas de flujo y/o pseudocódigos, manuales de usuario con instrucciones para ejecutar el programa y para interpretar los resultados."
   ]
  },
  {
   "cell_type": "markdown",
   "id": "2fef40c6",
   "metadata": {},
   "source": [
    "# Comentarios\n",
    "\n",
    "Un comentario es una línea de texto no ejecutable, esto quiere decir que el compilador o intérprete no la tomará como una línea de código. Los comentarios en Python, así como en otros lenguajes de programación, sirven para dejar pequeñas explicaciones sobre qué es lo que hace el programa. "
   ]
  },
  {
   "cell_type": "code",
   "execution_count": 9,
   "id": "98cab26c",
   "metadata": {},
   "outputs": [
    {
     "data": {
      "text/plain": [
       "25.0"
      ]
     },
     "execution_count": 9,
     "metadata": {},
     "output_type": "execute_result"
    }
   ],
   "source": [
    "# Funcion que remplaza las comas por espacios en una oracion\n",
    "def IMC(peso,estatura):\n",
    "    \n",
    "    # Formula para el calculo de indice de masa corporal \n",
    "    Resultado = peso / (estatura**2)  \n",
    "    \n",
    "    # Regresar el reultado\n",
    "    return Resultado\n",
    "\n",
    "IMC(81,1.8)"
   ]
  },
  {
   "cell_type": "markdown",
   "id": "7e8bf4c4",
   "metadata": {},
   "source": [
    "# Docstrings\n",
    "\n",
    "En programación, un docstring es un bloque de información en el código fuente que se usa, como un comentario multilinea, para documentar un segmento específico de código."
   ]
  },
  {
   "cell_type": "code",
   "execution_count": null,
   "id": "fba39718",
   "metadata": {},
   "outputs": [],
   "source": [
    "def IMC(peso,estatura):\n",
    "    \n",
    "    \"\"\"\n",
    "        NAME\n",
    "           IMC\n",
    "        VERSION\n",
    "            1.0\n",
    "        AUTOR\n",
    "            Michel Mourra\n",
    "        DESCRIPCION\n",
    "            Una funcion que toma peso y altura para calcular el indice de masa corporal\n",
    "        CATEGORIA\n",
    "            Funcion\n",
    "        USO\n",
    "            Obtener el indice de masa corporal\n",
    "        PARAMETROS\n",
    "            -peso: Masa de la persona en kg\n",
    "            -estatura: Altura de la persona en cm\n",
    "    \"\"\"\n",
    "    \n",
    "    # Formula para el calculo de indice de masa corporal \n",
    "    Resultado = peso / (estatura**2)  \n",
    "    \n",
    "    # Regresar el reultado\n",
    "    return Resultado\n",
    "\n",
    "IMC(81,1.8)"
   ]
  }
 ],
 "metadata": {
  "kernelspec": {
   "display_name": "Python 3",
   "language": "python",
   "name": "python3"
  },
  "language_info": {
   "codemirror_mode": {
    "name": "ipython",
    "version": 3
   },
   "file_extension": ".py",
   "mimetype": "text/x-python",
   "name": "python",
   "nbconvert_exporter": "python",
   "pygments_lexer": "ipython3",
   "version": "3.8.8"
  }
 },
 "nbformat": 4,
 "nbformat_minor": 5
}
