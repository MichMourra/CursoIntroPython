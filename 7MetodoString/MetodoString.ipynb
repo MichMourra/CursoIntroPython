{
 "cells": [
  {
   "cell_type": "markdown",
   "metadata": {},
   "source": [
    "# Metodos sobre cadenas\n",
    "\n",
    "En Python los objetos tipo cadena de texto (str) poseen diversos metodos que permiten manipularlas para llevar a cabo diferentes propositos. A continuación exploraremos los que consideramos mas importantes en esta introducción."
   ]
  },
  {
   "cell_type": "markdown",
   "metadata": {},
   "source": [
    "## count()\n",
    "\n",
    "El metodo count nos indica cuantas veces se repite un caracter o una palabra en una oración."
   ]
  },
  {
   "cell_type": "code",
   "execution_count": 14,
   "metadata": {},
   "outputs": [
    {
     "name": "stdout",
     "output_type": "stream",
     "text": [
      "2\n",
      "1\n"
     ]
    }
   ],
   "source": [
    "Mensaje = \"hola mundo\"\n",
    "\n",
    "print(Mensaje.count(\"o\"))\n",
    "print(Mensaje.count(\"hola\"))"
   ]
  },
  {
   "cell_type": "markdown",
   "metadata": {},
   "source": [
    "## find()\n",
    "\n",
    "El metodo find nos indicara la posición en la que se encuentra el elemento en la cadena indicada. Si el elemento se encuentra repetido en la cadena de texto, el metodo regresara el primer elemento encontrado."
   ]
  },
  {
   "cell_type": "code",
   "execution_count": 15,
   "metadata": {},
   "outputs": [
    {
     "name": "stdout",
     "output_type": "stream",
     "text": [
      "3\n",
      "5\n",
      "1\n",
      "9\n"
     ]
    }
   ],
   "source": [
    "# Con elementos unicos\n",
    "print(Mensaje.find(\"a\"))\n",
    "print(Mensaje.find(\"mundo\"))\n",
    "# Con un elemento repetido\n",
    "print(Mensaje.find(\"o\"))\n",
    "# Por su parte rfind() regresa la ultima ocurrencia\n",
    "print(Mensaje.rfind(\"o\"))"
   ]
  },
  {
   "cell_type": "markdown",
   "metadata": {},
   "source": [
    "## isnumeric()\n",
    "\n",
    "Es un metodo que nos indica si los caracteres de la cadena corresponden a valores numericos."
   ]
  },
  {
   "cell_type": "code",
   "execution_count": 16,
   "metadata": {},
   "outputs": [
    {
     "name": "stdout",
     "output_type": "stream",
     "text": [
      "True\n",
      "False\n"
     ]
    }
   ],
   "source": [
    "Num = \"1234\"\n",
    "NotNum = \"abc123\"\n",
    "\n",
    "print(Num.isnumeric())\n",
    "print(NotNum.isnumeric())"
   ]
  },
  {
   "cell_type": "markdown",
   "metadata": {},
   "source": [
    "## startswith() y endswith()\n",
    "\n",
    "Son metodos que nos indicaran si una cadena inicia o termina con el caracter o palabra indicado."
   ]
  },
  {
   "cell_type": "code",
   "execution_count": 17,
   "metadata": {},
   "outputs": [
    {
     "name": "stdout",
     "output_type": "stream",
     "text": [
      "True\n",
      "True\n",
      "False\n",
      "True\n",
      "True\n",
      "False\n"
     ]
    }
   ],
   "source": [
    "# Para el inicio\n",
    "print(Mensaje.startswith(\"h\"))\n",
    "print(Mensaje.startswith(\"hola\"))\n",
    "print(Mensaje.startswith(\"mundo\"))\n",
    "# Para el final\n",
    "print(Mensaje.endswith(\"o\"))\n",
    "print(Mensaje.endswith(\"mundo\"))\n",
    "print(Mensaje.endswith(\"hola\"))"
   ]
  },
  {
   "cell_type": "markdown",
   "metadata": {},
   "source": [
    "## capitalize(), lower(), upper() y swapcase()\n",
    "\n",
    "**capitalize()** es metodo se encarga de cambiar la primer letra de la cadena de caracteres por una mayuscula.\n",
    "\n",
    "**lower()** es un metodo que se encarga de cambiar todas las letras de la cadena de texto por minusculas.\n",
    "\n",
    "**upper()** es un metodo que se encarga de cambiar todas las letras de la cadena de texto por mayusculas.\n",
    "\n",
    "**swapcase()** es un metodo que se encarga por cambiar las minusculas por mayusculas y mayusculas por minusculas en una cadena."
   ]
  },
  {
   "cell_type": "code",
   "execution_count": 21,
   "metadata": {},
   "outputs": [
    {
     "name": "stdout",
     "output_type": "stream",
     "text": [
      "hola mundo\n",
      "Hola mundo\n",
      "hola\n",
      "HOLA\n",
      "HoLa\n",
      "hOlA\n"
     ]
    }
   ],
   "source": [
    "# Capitalize\n",
    "print(Mensaje)\n",
    "print(Mensaje.capitalize())\n",
    "\n",
    "# Lower\n",
    "print(\"HOLA\".lower())\n",
    "\n",
    "# Upper\n",
    "print(\"hola\".upper())\n",
    "\n",
    "# Swapcase\n",
    "print(\"HoLa\")\n",
    "print(\"HoLa\".swapcase())\n"
   ]
  },
  {
   "cell_type": "markdown",
   "metadata": {},
   "source": [
    "## center(), ljust() y rjust()\n",
    "\n",
    "**center()** Este metodo se encarga de ajustar la posición de un caracter o palabra en el centro de acuerdo a la cantidad de espacios indicados.\n",
    "\n",
    "**ljust()** Este metodo se encarga de ajustar la posición de un caracter o palabra en la izquierda de acuerdo a la cantidad de espacios indicados.\n",
    "\n",
    "**rjust()** Este metodo se encarga de ajustar la posición de un caracter o palabra en la derecha de acuerdo a la cantidad de espacios indicados."
   ]
  },
  {
   "cell_type": "code",
   "execution_count": 26,
   "metadata": {},
   "outputs": [
    {
     "name": "stdout",
     "output_type": "stream",
     "text": [
      "Hola      \n",
      "   Hola   \n",
      "      Hola\n"
     ]
    }
   ],
   "source": [
    "# Ljust\n",
    "print(\"Hola\".ljust(10))\n",
    "\n",
    "# Center\n",
    "print(\"Hola\".center(10))\n",
    "\n",
    "# Rjust\n",
    "print(\"Hola\".rjust(10))"
   ]
  },
  {
   "cell_type": "markdown",
   "metadata": {},
   "source": [
    "## strip(), lstrip() y rstrip()\n",
    "\n",
    "**strip()** es un metodo que se encarga de eliminar el primer y ultimo caracter de la cadena de texto.\n",
    "\n",
    "**lstrip()** es un metodo que se encarga de eliminar el primer caracter de la cadena de texto.\n",
    "\n",
    "**rstrip()** es un metodo que se encarga de eliminar el ultimo caracter de la cadena de texto."
   ]
  },
  {
   "cell_type": "code",
   "execution_count": 28,
   "metadata": {},
   "outputs": [
    {
     "name": "stdout",
     "output_type": "stream",
     "text": [
      "MundoHola\n",
      "Mundo Hola\n",
      " MundoHola\n"
     ]
    }
   ],
   "source": [
    "Texto = \" Mundo \"\n",
    "\n",
    "# strip()\n",
    "print(Texto.strip() + \"Hola\")\n",
    "\n",
    "# lstrip()\n",
    "print(Texto.lstrip() + \"Hola\")\n",
    "\n",
    "# rstrip()\n",
    "print(Texto.rstrip() + \"Hola\")"
   ]
  },
  {
   "cell_type": "markdown",
   "metadata": {},
   "source": [
    "## replace()\n",
    "\n",
    "Este metodo se encarga de reemplazar el caracter o palabra indicada por otro elemento proporcionado como parametro."
   ]
  },
  {
   "cell_type": "code",
   "execution_count": 33,
   "metadata": {},
   "outputs": [
    {
     "name": "stdout",
     "output_type": "stream",
     "text": [
      "Hola mundo\n",
      "Hla mund\n",
      "Hxla amigo\n",
      "Hola amigo\n"
     ]
    }
   ],
   "source": [
    "Enunciado = \"Hxla mundx\"\n",
    "\n",
    "# Reemplazar caracter x por o\n",
    "print(Enunciado.replace(\"x\",\"o\"))\n",
    "\n",
    "# Eliminar caracter x\n",
    "print(Enunciado.replace(\"x\",\"\"))\n",
    "\n",
    "# Cambiar una palabra\n",
    "print(Enunciado.replace(\"mundx\",\"amigo\"))\n",
    "\n",
    "# Reemplazo doble\n",
    "print(Enunciado.replace(\"x\",\"o\").replace(\"mundo\",\"amigo\"))"
   ]
  },
  {
   "cell_type": "markdown",
   "metadata": {},
   "source": [
    "## split()\n",
    "\n",
    "Es un metodo que se encarga de generar una lista de elementos a partir de una cadena se texto, lo cual se logra indicando el separador que delimitara cada elemento."
   ]
  },
  {
   "cell_type": "code",
   "execution_count": 39,
   "metadata": {},
   "outputs": [
    {
     "name": "stdout",
     "output_type": "stream",
     "text": [
      "['Me', 'gusta', 'comer', 'chocolates']\n",
      "['Me gusta ', ' chocolates']\n",
      "['Me gusta ', 'omer ', 'ho', 'olates']\n",
      "['Me gusta ', 'omer chocolates']\n",
      "Hola\n",
      "Como\n",
      "Estas?\n",
      "['Hola', 'Como', 'Estas?']\n"
     ]
    }
   ],
   "source": [
    "Variable = \"Me gusta comer chocolates\"\n",
    "\n",
    "# Si queremos generar una lista de cada palabra indicamos como separador un espacio simple\n",
    "print(Variable.split(\" \"))\n",
    "\n",
    "# Si queremos una separación que genere una lista de dos elementos separamos con una palabra\n",
    "print(Variable.split(\"comer\"))\n",
    "\n",
    "# Si queremos mas elementos tambien podemos usar como separador un caracter\n",
    "print(Variable.split(\"c\"))\n",
    "\n",
    "# Podemos indicar cuantos separadores utilizaremos por medio de un segundo parametro\n",
    "print(Variable.split(\"c\",1))\n",
    "\n",
    "Lineas = \"Hola\\nComo\\nEstas?\"\n",
    "\n",
    "# Separar por saltos de linea\n",
    "print(Lineas)\n",
    "print(Lineas.splitlines())"
   ]
  },
  {
   "cell_type": "markdown",
   "metadata": {},
   "source": [
    "## join()\n",
    "\n",
    "Este metodo podria considerarse lo opuesto al metodo split, ya que parte de una lista de elementos regresando una cadena de texto por medio de la union de los elementos con el separador indicado."
   ]
  },
  {
   "cell_type": "code",
   "execution_count": 37,
   "metadata": {},
   "outputs": [
    {
     "data": {
      "text/plain": [
       "'Los dulces son de sabor a moras'"
      ]
     },
     "execution_count": 37,
     "metadata": {},
     "output_type": "execute_result"
    }
   ],
   "source": [
    "Values = [\"Los\", \"dulces\", \"son\", \"de\", \"sabor\", \"a\", \"moras\"]\n",
    "\n",
    "\" \".join(Values)"
   ]
  }
 ],
 "metadata": {
  "kernelspec": {
   "display_name": "Python 3",
   "language": "python",
   "name": "python3"
  },
  "language_info": {
   "codemirror_mode": {
    "name": "ipython",
    "version": 3
   },
   "file_extension": ".py",
   "mimetype": "text/x-python",
   "name": "python",
   "nbconvert_exporter": "python",
   "pygments_lexer": "ipython3",
   "version": "3.8.3"
  }
 },
 "nbformat": 4,
 "nbformat_minor": 4
}
