{
 "cells": [
  {
   "cell_type": "markdown",
   "id": "9b8202ca",
   "metadata": {},
   "source": [
    "# Operadores\n",
    "\n",
    "Los operadores son símbolos que indican cómo se deben manipular los operandos. Los operadores junto con los operandos forman una expresión, que es una fórmula que define el cálculo de un valor. \n",
    "\n",
    "**Estructura de una expresión**\n",
    "\n",
    "5 + 3 -> 5 (Operando) + (Operador) 3 (Operando)\n",
    "\n",
    "**Características**\n",
    "\n",
    "- Los operandos pueden ser constantes, variables o llamadas a funciones, siempre que éstas devuelvan algún valor. \n",
    "\n",
    "- El compilador evalúa los operadores, algunos de izquierda a derecha, otros de derecha a izquierda, siguiendo un orden de precedencia. \n",
    "\n",
    "- El orden de precedencia se puede alterar utilizando paréntesis para forzar al compilador a evaluar primero las partes que se deseen."
   ]
  },
  {
   "cell_type": "markdown",
   "id": "cab2e63b",
   "metadata": {},
   "source": [
    "<img src=\"./Operadores.jpg\" width=\"700\">"
   ]
  },
  {
   "cell_type": "markdown",
   "id": "928561c4",
   "metadata": {},
   "source": [
    "# Aritméticos\n",
    "\n",
    "Los operadores aritméticos realizan operaciones matemáticas, como sumas o restas con operandos."
   ]
  },
  {
   "cell_type": "markdown",
   "id": "a5a6b647",
   "metadata": {},
   "source": [
    "<img src=\"./Aritmeticos.png\">"
   ]
  },
  {
   "cell_type": "markdown",
   "id": "591a3758",
   "metadata": {},
   "source": [
    "## Suma\n",
    "\n",
    "Realiza una suma de los operandos, en este caso vemos el ejemplo:\n",
    "\n",
    "10 + 3 = 13"
   ]
  },
  {
   "cell_type": "code",
   "execution_count": 1,
   "id": "0f5ac688",
   "metadata": {},
   "outputs": [
    {
     "name": "stdout",
     "output_type": "stream",
     "text": [
      "13\n"
     ]
    }
   ],
   "source": [
    "Num1 = 10\n",
    "Num2 = 3\n",
    "\n",
    "print(Num1 + Num2)"
   ]
  },
  {
   "cell_type": "markdown",
   "id": "c43c5aae",
   "metadata": {},
   "source": [
    "## Resta\n",
    "\n",
    "Realiza una resta de los operandos, en este caso vemos el ejemplo:\n",
    "\n",
    "10 - 3 = 7\n",
    "\n",
    "Cabe destacar que python tambien nos entrega resultados negativos"
   ]
  },
  {
   "cell_type": "code",
   "execution_count": 13,
   "id": "4d9ea394",
   "metadata": {},
   "outputs": [
    {
     "name": "stdout",
     "output_type": "stream",
     "text": [
      "7\n",
      "-7\n"
     ]
    }
   ],
   "source": [
    "Num1 = 10\n",
    "Num2 = 3\n",
    "\n",
    "print(Num1 - Num2)\n",
    "print(Num2 - Num1)"
   ]
  },
  {
   "cell_type": "markdown",
   "id": "f9ae2a41",
   "metadata": {},
   "source": [
    "## Multiplicación\n",
    "\n",
    "Realiza una multiplicación de los operandos, en este caso vemos el ejemplo: \n",
    "\n",
    "10 x 3 = 30"
   ]
  },
  {
   "cell_type": "code",
   "execution_count": 3,
   "id": "39228f4e",
   "metadata": {},
   "outputs": [
    {
     "name": "stdout",
     "output_type": "stream",
     "text": [
      "30\n"
     ]
    }
   ],
   "source": [
    "Num1 = 10\n",
    "Num2 = 3\n",
    "\n",
    "print(Num1 * Num2)"
   ]
  },
  {
   "cell_type": "markdown",
   "id": "14f7ce7e",
   "metadata": {},
   "source": [
    "## Potencia\n",
    "\n",
    "Este operador exponencia uno de los operandos tomando como exponente el otro operando, en este caso vemos el ejemplo: \n",
    "\n",
    "10 ^ 3 = 1000"
   ]
  },
  {
   "cell_type": "code",
   "execution_count": 4,
   "id": "d2ffb112",
   "metadata": {},
   "outputs": [
    {
     "name": "stdout",
     "output_type": "stream",
     "text": [
      "1000\n"
     ]
    }
   ],
   "source": [
    "Num1 = 10\n",
    "Num2 = 3\n",
    "\n",
    "print(Num1**Num2)"
   ]
  },
  {
   "cell_type": "markdown",
   "id": "4015dd26",
   "metadata": {},
   "source": [
    "## División\n",
    "\n",
    "Este operador divide uno de los operandos entre el otro operando, en este caso vemos el ejemplo: \n",
    "\n",
    "10 / 3 = 3.33333"
   ]
  },
  {
   "cell_type": "code",
   "execution_count": 6,
   "id": "13c691a2",
   "metadata": {},
   "outputs": [
    {
     "name": "stdout",
     "output_type": "stream",
     "text": [
      "3.3333333333333335\n"
     ]
    }
   ],
   "source": [
    "Num1 = 10\n",
    "Num2 = 3\n",
    "\n",
    "print(Num1 / Num2)"
   ]
  },
  {
   "cell_type": "markdown",
   "id": "44bda257",
   "metadata": {},
   "source": [
    "## División entera\n",
    "\n",
    "Este operador divide uno de los operandos entre el otro operando dando como resultado el entero del limite inferior, en este caso vemos el ejemplo 10 / 3 = 3"
   ]
  },
  {
   "cell_type": "code",
   "execution_count": 15,
   "id": "cf6c7b55",
   "metadata": {},
   "outputs": [
    {
     "name": "stdout",
     "output_type": "stream",
     "text": [
      "3\n"
     ]
    }
   ],
   "source": [
    "Num1 = 10\n",
    "Num2 = 3\n",
    "\n",
    "print(Num1 // Num2)"
   ]
  },
  {
   "cell_type": "markdown",
   "id": "06e1f240",
   "metadata": {},
   "source": [
    "## Módulo\n",
    "\n",
    "Este operador divide uno de los operandos entre el otro operando dando como resultado el residuo que es producto de una división entera, en este caso vemos el ejemplo: \n",
    "\n",
    "10 % 3 = 1\n",
    "\n",
    "Lo que ocurre es lo siguiente:\n",
    "\n",
    "10 // 3 = 3\n",
    "\n",
    "3 x 3 = 9\n",
    "\n",
    "10 - 9 = 1"
   ]
  },
  {
   "cell_type": "code",
   "execution_count": 8,
   "id": "17664b46",
   "metadata": {},
   "outputs": [
    {
     "name": "stdout",
     "output_type": "stream",
     "text": [
      "1\n"
     ]
    }
   ],
   "source": [
    "Num1 = 10\n",
    "Num2 = 3\n",
    "\n",
    "print(Num1 % Num2)"
   ]
  },
  {
   "cell_type": "markdown",
   "id": "b1a7ec2f",
   "metadata": {},
   "source": [
    "# Relacionales\n",
    "\n",
    "Los operadores relacionales son símbolos que se usan para comparar dos valores. Si el resultado de la comparación es correcto la expresión considerada es verdadera, en caso contrario es falsa."
   ]
  },
  {
   "cell_type": "markdown",
   "id": "6fc5a0ae",
   "metadata": {},
   "source": [
    "<img src=\"./Relacionales.png\">"
   ]
  },
  {
   "cell_type": "code",
   "execution_count": 16,
   "id": "1bf786de",
   "metadata": {},
   "outputs": [
    {
     "name": "stdout",
     "output_type": "stream",
     "text": [
      "False\n",
      "True\n"
     ]
    }
   ],
   "source": [
    "print(3 > 8)\n",
    "print(3 < 8)"
   ]
  },
  {
   "cell_type": "markdown",
   "id": "0d70c37a",
   "metadata": {},
   "source": [
    "## Mayor que, menor que"
   ]
  },
  {
   "cell_type": "code",
   "execution_count": 21,
   "id": "2e4f2a50",
   "metadata": {},
   "outputs": [
    {
     "name": "stdout",
     "output_type": "stream",
     "text": [
      "True\n",
      "True\n"
     ]
    }
   ],
   "source": [
    "print(10 > 8)\n",
    "print(3 < 8)"
   ]
  },
  {
   "cell_type": "markdown",
   "id": "6435650f",
   "metadata": {},
   "source": [
    "## Mayor igual que"
   ]
  },
  {
   "cell_type": "code",
   "execution_count": 25,
   "id": "4e89031d",
   "metadata": {},
   "outputs": [
    {
     "name": "stdout",
     "output_type": "stream",
     "text": [
      "False\n",
      "True\n",
      "True\n"
     ]
    }
   ],
   "source": [
    "print(4 >= 8)\n",
    "print(8 >= 8)\n",
    "print(10 >= 8)"
   ]
  },
  {
   "cell_type": "markdown",
   "id": "d40f5ce4",
   "metadata": {},
   "source": [
    "## Menor igual que"
   ]
  },
  {
   "cell_type": "code",
   "execution_count": 24,
   "id": "35badf3e",
   "metadata": {},
   "outputs": [
    {
     "name": "stdout",
     "output_type": "stream",
     "text": [
      "True\n",
      "True\n",
      "False\n"
     ]
    }
   ],
   "source": [
    "print(4 <= 8)\n",
    "print(8 <= 8)\n",
    "print(10 <= 8)"
   ]
  },
  {
   "cell_type": "markdown",
   "id": "bd878e21",
   "metadata": {},
   "source": [
    "## Diferente que e igual que"
   ]
  },
  {
   "cell_type": "code",
   "execution_count": 18,
   "id": "cab3b64f",
   "metadata": {},
   "outputs": [
    {
     "name": "stdout",
     "output_type": "stream",
     "text": [
      "True\n",
      "True\n"
     ]
    }
   ],
   "source": [
    "print(5 != 8)\n",
    "print(8 == 8)"
   ]
  },
  {
   "cell_type": "markdown",
   "id": "5003e4a6",
   "metadata": {},
   "source": [
    "# Lógicos\n",
    "\n",
    "Los operadores lógicos permiten agrupar expresiones lógicas. Las expresiones lógicas son todas aquellas expresiones que obtienen como resultado verdadero o falso. Los operadores lógicos son aquellos que hacen de nexo de este tipo de expresiones."
   ]
  },
  {
   "cell_type": "markdown",
   "id": "74eb820b",
   "metadata": {},
   "source": [
    "<img src=\"./Logicos.png\">"
   ]
  },
  {
   "cell_type": "markdown",
   "id": "976e6a91",
   "metadata": {},
   "source": [
    "## AND\n",
    "\n",
    "Toma el resultado (verdadero,falso) de dos expresiones y regresa verdadero unicamente si las dos condiciones son verdaderas.\n",
    "\n",
    "**Salidas de AND**\n",
    "\n",
    "| Primera condición | Segunda condición | Salida |\n",
    "| -- | -- | -- |\n",
    "| Falso | Falso | Falso |\n",
    "| Falso | Verdadero | Falso |\n",
    "| Verdadero | Falso | Falso |\n",
    "| Verdero | Verdadero | Verdadero |"
   ]
  },
  {
   "cell_type": "code",
   "execution_count": 31,
   "id": "1fa4633b",
   "metadata": {},
   "outputs": [
    {
     "name": "stdout",
     "output_type": "stream",
     "text": [
      "Las dos condiciones son verdaderas\n"
     ]
    }
   ],
   "source": [
    "condicion1 = 5 == 5\n",
    "condicion2 = 5 < 8\n",
    "condicion3 = 10 < 8\n",
    "\n",
    "if condicion1 and condicion2:\n",
    "    print(\"Las dos condiciones son verdaderas\")\n",
    "else:\n",
    "    print(\"Al menos una de las condiciones es falsa\")"
   ]
  },
  {
   "cell_type": "code",
   "execution_count": 32,
   "id": "344fd90f",
   "metadata": {},
   "outputs": [
    {
     "name": "stdout",
     "output_type": "stream",
     "text": [
      "Al menos una de las condiciones es falsa\n"
     ]
    }
   ],
   "source": [
    "if condicion1 and condicion3:\n",
    "    print(\"Las dos condiciones son verdaderas\")\n",
    "else:\n",
    "    print(\"Al menos una de las condiciones es falsa\")"
   ]
  },
  {
   "cell_type": "markdown",
   "id": "478f6a2a",
   "metadata": {},
   "source": [
    "## OR\n",
    "\n",
    "Toma el resultado (verdadero,falso) de dos expresiones y regresa verdadero unicamente si alguna de las dos condiciones es verdadera.\n",
    "\n",
    "**Salidas de AND**\n",
    "\n",
    "| Primera condición | Segunda condición | Salida |\n",
    "| -- | -- | -- |\n",
    "| Falso | Falso | Falso |\n",
    "| Falso | Verdadero | Verdadero |\n",
    "| Verdadero | Falso | Verdadero |\n",
    "| Verdero | Verdadero | Verdadero |"
   ]
  },
  {
   "cell_type": "code",
   "execution_count": 34,
   "id": "ee9b0d48",
   "metadata": {},
   "outputs": [
    {
     "name": "stdout",
     "output_type": "stream",
     "text": [
      "Al menos una de las dos condiciones es verdadera\n"
     ]
    }
   ],
   "source": [
    "condicion1 = 5 == 5\n",
    "condicion2 = 5 < 8\n",
    "condicion3 = 10 < 8\n",
    "condicion4 = 10 != 10\n",
    "\n",
    "if condicion1 or condicion3:\n",
    "    print(\"Al menos una de las dos condiciones es verdadera\")\n",
    "else:\n",
    "    print(\"Las dos condiciones son falsas\")"
   ]
  },
  {
   "cell_type": "code",
   "execution_count": 35,
   "id": "04fa9a20",
   "metadata": {},
   "outputs": [
    {
     "name": "stdout",
     "output_type": "stream",
     "text": [
      "Las dos condiciones son falsas\n"
     ]
    }
   ],
   "source": [
    "if condicion3 or condicion4:\n",
    "    print(\"Al menos una de las dos condiciones es verdadera\")\n",
    "else:\n",
    "    print(\"Las dos condiciones son falsas\")"
   ]
  }
 ],
 "metadata": {
  "kernelspec": {
   "display_name": "Python 3",
   "language": "python",
   "name": "python3"
  },
  "language_info": {
   "codemirror_mode": {
    "name": "ipython",
    "version": 3
   },
   "file_extension": ".py",
   "mimetype": "text/x-python",
   "name": "python",
   "nbconvert_exporter": "python",
   "pygments_lexer": "ipython3",
   "version": "3.8.8"
  }
 },
 "nbformat": 4,
 "nbformat_minor": 5
}
