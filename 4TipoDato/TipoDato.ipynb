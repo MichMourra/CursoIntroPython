{
 "cells": [
  {
   "cell_type": "markdown",
   "metadata": {},
   "source": [
    "# Tipos de dato\n",
    "\n",
    "Un tipo de dato es un atributo de los datos que indica al ordenador con que clase de datos va a trabajar.\n",
    "\n",
    "En el caso de python contamos con estos tipos de dato:\n",
    "\n",
    "- **Enteros (int)**: Corresponde a numeros enteros sin parte decimal.\n",
    "- **De punto flotante (float)**: Corresponde a numeros reales con perte decimal cuyo separador es la coma.\n",
    "- **Caracter (chr)**: Corresponde a un simbolo tipografico.\n",
    "- **Cadenas (str)**: Corresponde a una cadena de caracteres.\n",
    "- **Booleano (boolean)**: Corresponde a una variable de dos estados verdadero o falso."
   ]
  },
  {
   "cell_type": "markdown",
   "metadata": {},
   "source": [
    "# Variables\n",
    "\n",
    "Una Variable es un espacio de la memoria del computador que permite almacenar información de un determinado tipo de dato.\n",
    "\n",
    "Para generar una variable debes seguir la siguiente sintaxis:\n",
    "\n",
    "1. Nombre de la variable: Este debe ser de preferencia corto y estar relacionado con la información que sera almacenada en ella. Este nombre no debe iniciar con un numero ni contener simbolos como la ñ u operadores asignados en el lenguaje como lo son +,-,/,*\n",
    "2. Operador \"=\": El cual indicara que a la variable se le asignara cierta información para que la almacene.\n",
    "3. Información almacenada: La cual correspondera a un determinado tipo de dato.\n",
    "\n",
    "Ejemplo:\n",
    "\n",
    "Variable = \"Hola mundo\""
   ]
  },
  {
   "cell_type": "code",
   "execution_count": 14,
   "metadata": {},
   "outputs": [],
   "source": [
    "# Guardamos los valores en cada variable definiendo los tipos de datos\n",
    "Entero = 3\n",
    "# Numero decimal\n",
    "Flotante = 3.1416\n",
    "# Simbolo tipografico alfanumerico\n",
    "Caracter = \"a\"\n",
    "# Cadena de caracteres\n",
    "Cadena = \"Cuatro\"\n",
    "# Variable de dos estados True y False \n",
    "Booleano = True"
   ]
  },
  {
   "cell_type": "code",
   "execution_count": 15,
   "metadata": {},
   "outputs": [
    {
     "name": "stdout",
     "output_type": "stream",
     "text": [
      "3\n",
      "3.1416\n",
      "a\n",
      "Cuatro\n",
      "True\n"
     ]
    }
   ],
   "source": [
    "# Imprimimos cada variable para ver de que manera almacena cada variable\n",
    "print(Entero)\n",
    "print(Flotante)\n",
    "print(Caracter)\n",
    "print(Cadena)\n",
    "print(Booleano)"
   ]
  },
  {
   "cell_type": "markdown",
   "metadata": {},
   "source": [
    "# Ejemplos de uso"
   ]
  },
  {
   "cell_type": "code",
   "execution_count": 3,
   "metadata": {},
   "outputs": [
    {
     "name": "stdout",
     "output_type": "stream",
     "text": [
      "El resultado de la suma es: 61.78999999999999\n",
      "Hola, ¿Como estas?\n"
     ]
    }
   ],
   "source": [
    "########################## Operacion numerica ############################\n",
    "Num1 = 34.23\n",
    "Num2 = 27.56\n",
    "\n",
    "Resultado = Num1 + Num2\n",
    "\n",
    "print(\"El resultado de la suma es:\",Resultado)\n",
    "\n",
    "############################# Concatenacion ##############################\n",
    "\n",
    "Saludo = \"Hola, \"\n",
    "Pregunta = \"¿Como estas?\"\n",
    "\n",
    "frase = Saludo + Pregunta\n",
    "\n",
    "print(frase)"
   ]
  },
  {
   "cell_type": "markdown",
   "metadata": {},
   "source": [
    "# Convertir tipos de datos (Cast)\n",
    "\n",
    "Los diferentes tipos de datos pueden ser cambiados entre si mediante una acción que se conoce como Cast, a continuación veremos cuando ocurren estos casos:"
   ]
  },
  {
   "cell_type": "markdown",
   "metadata": {},
   "source": [
    "## Entero - Decimal"
   ]
  },
  {
   "cell_type": "code",
   "execution_count": 16,
   "metadata": {},
   "outputs": [
    {
     "name": "stdout",
     "output_type": "stream",
     "text": [
      "3.0\n",
      "3\n"
     ]
    }
   ],
   "source": [
    "# Entero->Decimal\n",
    "# Convertimos el entero en un numero con decimales\n",
    "print(float(Entero))\n",
    "# Decimal-Entero\n",
    "# Convertimos el numero con punto flotante en un entero, perdiendo asi los decimales\n",
    "print(int(Flotante))"
   ]
  },
  {
   "cell_type": "markdown",
   "metadata": {},
   "source": [
    "## Numerico - Texto"
   ]
  },
  {
   "cell_type": "code",
   "execution_count": 17,
   "metadata": {},
   "outputs": [
    {
     "name": "stdout",
     "output_type": "stream",
     "text": [
      "9.0\n",
      "3.1416\n"
     ]
    }
   ],
   "source": [
    "# Numero como caracter\n",
    "Num = \"9\"\n",
    "\n",
    "# Caracter->Decimal\n",
    "# Convertimos el entero en un numero con decimales\n",
    "print(float(Num))\n",
    "# Decimal->Cadena\n",
    "# Convertimos el numero con punto flotante en un una cadena de caracteres\n",
    "print(str(Flotante))"
   ]
  },
  {
   "cell_type": "markdown",
   "metadata": {},
   "source": [
    "Como podemos observar el caracter \"9\" a cambiado a un numero decimal, por otro lado, el numero decimal fue cambiado por una cadena de caracteres, para asegurarnos de esto trataremos de realizar una suma."
   ]
  },
  {
   "cell_type": "code",
   "execution_count": 21,
   "metadata": {},
   "outputs": [
    {
     "name": "stdout",
     "output_type": "stream",
     "text": [
      "6.1416\n"
     ]
    },
    {
     "ename": "TypeError",
     "evalue": "must be str, not float",
     "output_type": "error",
     "traceback": [
      "\u001b[0;31m---------------------------------------------------------------------------\u001b[0m",
      "\u001b[0;31mTypeError\u001b[0m                                 Traceback (most recent call last)",
      "\u001b[0;32m<ipython-input-21-cf9c656eb50c>\u001b[0m in \u001b[0;36m<module>\u001b[0;34m\u001b[0m\n\u001b[1;32m      1\u001b[0m \u001b[0mprint\u001b[0m\u001b[0;34m(\u001b[0m\u001b[0mFlotante\u001b[0m \u001b[0;34m+\u001b[0m \u001b[0;36m3.0\u001b[0m\u001b[0;34m)\u001b[0m\u001b[0;34m\u001b[0m\u001b[0;34m\u001b[0m\u001b[0m\n\u001b[0;32m----> 2\u001b[0;31m \u001b[0mprint\u001b[0m\u001b[0;34m(\u001b[0m\u001b[0mstr\u001b[0m\u001b[0;34m(\u001b[0m\u001b[0mFlotante\u001b[0m\u001b[0;34m)\u001b[0m \u001b[0;34m+\u001b[0m \u001b[0;36m3.0\u001b[0m\u001b[0;34m)\u001b[0m\u001b[0;34m\u001b[0m\u001b[0;34m\u001b[0m\u001b[0m\n\u001b[0m",
      "\u001b[0;31mTypeError\u001b[0m: must be str, not float"
     ]
    }
   ],
   "source": [
    "print(Flotante + 3.0)\n",
    "print(str(Flotante) + 3.0)"
   ]
  },
  {
   "cell_type": "markdown",
   "metadata": {},
   "source": [
    "En el error podemos observar que nos pide que la variable numerica debe ser de tipo string ya que el simbolo de suma \"+\" es interpretado como una concatenación."
   ]
  },
  {
   "cell_type": "code",
   "execution_count": 23,
   "metadata": {},
   "outputs": [
    {
     "name": "stdout",
     "output_type": "stream",
     "text": [
      "3.14163.0\n"
     ]
    }
   ],
   "source": [
    "# Al convertir el valor numerico en una cadena de texto si podemos realizar la concatenación\n",
    "print(str(Flotante) + \"3.0\")"
   ]
  },
  {
   "cell_type": "markdown",
   "metadata": {},
   "source": [
    "# Cadenas\n",
    "\n",
    "Las cadenas de texto so interpretadas por python como arreglos de caracteres, debido a esto podemos acceder a cada caracter que compone la cadena mediante índices."
   ]
  },
  {
   "cell_type": "code",
   "execution_count": 28,
   "metadata": {},
   "outputs": [
    {
     "name": "stdout",
     "output_type": "stream",
     "text": [
      "H\n",
      "o\n",
      "l\n",
      "a\n",
      " \n",
      "M\n",
      "u\n",
      "n\n",
      "d\n",
      "o\n"
     ]
    }
   ],
   "source": [
    "Variable = \"Hola Mundo\"\n",
    "print(Variable[0])\n",
    "print(Variable[1])\n",
    "print(Variable[2])\n",
    "print(Variable[3])\n",
    "print(Variable[4])\n",
    "print(Variable[5])\n",
    "print(Variable[6])\n",
    "print(Variable[7])\n",
    "print(Variable[8])\n",
    "print(Variable[9])"
   ]
  },
  {
   "cell_type": "markdown",
   "metadata": {},
   "source": [
    "En clases futuras se abordara cuando es adecuado utilizar cada uno de estos tipos de datos. "
   ]
  }
 ],
 "metadata": {
  "kernelspec": {
   "display_name": "Python 3",
   "language": "python",
   "name": "python3"
  },
  "language_info": {
   "codemirror_mode": {
    "name": "ipython",
    "version": 3
   },
   "file_extension": ".py",
   "mimetype": "text/x-python",
   "name": "python",
   "nbconvert_exporter": "python",
   "pygments_lexer": "ipython3",
   "version": "3.8.3"
  }
 },
 "nbformat": 4,
 "nbformat_minor": 5
}
