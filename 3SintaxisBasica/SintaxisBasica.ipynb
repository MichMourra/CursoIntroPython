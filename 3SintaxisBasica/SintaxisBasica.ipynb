{
 "cells": [
  {
   "cell_type": "markdown",
   "id": "e473909a",
   "metadata": {},
   "source": [
    "# Sintaxis básica\n",
    "\n",
    "Primero que nada, como en cualquier lenguaje de programación debemos saber que en python es posible trabajar con:\n",
    "\n",
    "- **Variables:** enteros, flotantes, booleanos, cadenas.\n",
    "\n",
    "- **Funciones predefinidas:** print, len, sum, upper, etc. \n",
    "\n",
    "- **Estructuras:** for, while, if\n",
    "\n",
    "- **Operadores aritmeticos, logicos y de comparación:** +, -, *, /, ==, !=, and, or."
   ]
  },
  {
   "cell_type": "markdown",
   "id": "eba32b33",
   "metadata": {},
   "source": [
    "# print\n",
    "\n",
    "Función predefinida que imprime por pantalla el argumento que le pasemos.\n",
    "\n",
    "## Ejemplo"
   ]
  },
  {
   "cell_type": "code",
   "execution_count": 3,
   "id": "9d0ae5a4",
   "metadata": {},
   "outputs": [
    {
     "name": "stdout",
     "output_type": "stream",
     "text": [
      "Hola Mundo\n",
      "3\n",
      "3.14\n",
      "[1, 2, 3, 4]\n",
      "{'Hola': 'Mundo', 'pi': 3.14}\n"
     ]
    }
   ],
   "source": [
    "print(\"Hola Mundo\")\n",
    "print(3)\n",
    "print(3.14)\n",
    "print([1,2,3,4])\n",
    "print({\"Hola\":\"Mundo\",\"pi\":3.14})"
   ]
  },
  {
   "cell_type": "markdown",
   "id": "85afd69b",
   "metadata": {},
   "source": [
    "# Operadores"
   ]
  },
  {
   "cell_type": "code",
   "execution_count": 4,
   "id": "69b21fff",
   "metadata": {},
   "outputs": [
    {
     "name": "stdout",
     "output_type": "stream",
     "text": [
      "4\n",
      "2\n",
      "3\n",
      "3.0\n"
     ]
    }
   ],
   "source": [
    "Valor1 = 1\n",
    "Valor2 = 3\n",
    "\n",
    "print(Valor1+Valor2)\n",
    "print(Valor2-Valor1)\n",
    "print(Valor1*Valor2)\n",
    "print(Valor2/Valor1)"
   ]
  },
  {
   "cell_type": "markdown",
   "id": "f57abdc0",
   "metadata": {},
   "source": [
    "# Estructuras\n",
    "\n",
    "En los lenguajes como C y Java el contenido de una estructura viene denotado por corchetes, mientras que en python todo el contenido es indicado por el simbolo \":\" y la identación de las instrucciones.\n",
    "\n",
    "## Ejemplos"
   ]
  },
  {
   "cell_type": "code",
   "execution_count": 2,
   "id": "edc0e6ca",
   "metadata": {},
   "outputs": [
    {
     "name": "stdout",
     "output_type": "stream",
     "text": [
      "1\n",
      "+\n",
      "2\n",
      "+\n",
      "3\n",
      "+\n",
      "4\n",
      "+\n"
     ]
    }
   ],
   "source": [
    "lista = [1,2,3,4]\n",
    "\n",
    "for elemento in lista:\n",
    "    print(elemento)\n",
    "    print(\"+\")\n"
   ]
  },
  {
   "cell_type": "code",
   "execution_count": 3,
   "id": "75663bcc",
   "metadata": {},
   "outputs": [
    {
     "name": "stdout",
     "output_type": "stream",
     "text": [
      "0\n",
      "1\n",
      "2\n",
      "3\n",
      "4\n"
     ]
    }
   ],
   "source": [
    "contador = 0\n",
    "\n",
    "while contador < 5:\n",
    "    print(contador)\n",
    "    contador += 1"
   ]
  },
  {
   "cell_type": "code",
   "execution_count": 4,
   "id": "5227f808",
   "metadata": {},
   "outputs": [
    {
     "name": "stdout",
     "output_type": "stream",
     "text": [
      "Si hay 3 en la lista\n"
     ]
    }
   ],
   "source": [
    "for elemento in lista:\n",
    "    if elemento == 3:\n",
    "        print(\"Si hay 3 en la lista\")"
   ]
  },
  {
   "cell_type": "code",
   "execution_count": null,
   "id": "2a9b8cd1",
   "metadata": {},
   "outputs": [],
   "source": []
  }
 ],
 "metadata": {
  "kernelspec": {
   "display_name": "Python 3",
   "language": "python",
   "name": "python3"
  },
  "language_info": {
   "codemirror_mode": {
    "name": "ipython",
    "version": 3
   },
   "file_extension": ".py",
   "mimetype": "text/x-python",
   "name": "python",
   "nbconvert_exporter": "python",
   "pygments_lexer": "ipython3",
   "version": "3.8.8"
  }
 },
 "nbformat": 4,
 "nbformat_minor": 5
}
